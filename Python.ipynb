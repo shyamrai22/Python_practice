{
 "cells": [
  {
   "attachments": {},
   "cell_type": "markdown",
   "metadata": {},
   "source": [
    "# **ARMSTRONG**"
   ]
  },
  {
   "cell_type": "code",
   "execution_count": null,
   "metadata": {},
   "outputs": [],
   "source": [
    "n=int(input(\"Enter any Number = \"))\n",
    "x=n\n",
    "p=len(str(n))\n",
    "y=0\n",
    "sum=0\n",
    "while x>0:\n",
    "    y=x%10\n",
    "    sum+=y**p\n",
    "    x=x//10\n",
    "if sum==n:\n",
    "    print('Number is Armstrong')\n",
    "else:\n",
    "    print('Number is not Armstrong')\n",
    "\n"
   ]
  },
  {
   "attachments": {},
   "cell_type": "markdown",
   "metadata": {},
   "source": [
    "# **FIBONACCI FUNCTION**"
   ]
  },
  {
   "cell_type": "code",
   "execution_count": null,
   "metadata": {},
   "outputs": [],
   "source": [
    "def fibonacci(num):\n",
    "    n1 = 0\n",
    "    n2 = 1\n",
    "    n3 = 0\n",
    "    print(n1,end=\",\")\n",
    "    print(n2,end=\",\")\n",
    "    for i in range(num+1):\n",
    "        n3=n2+n1\n",
    "        print(n3,end=\",\")\n",
    "\n",
    "        n1=n2\n",
    "        n2=n3\n"
   ]
  },
  {
   "attachments": {},
   "cell_type": "markdown",
   "metadata": {},
   "source": [
    "# **LUCKY NUMBER**"
   ]
  },
  {
   "cell_type": "code",
   "execution_count": null,
   "metadata": {},
   "outputs": [],
   "source": [
    "for i in range(1,6):\n",
    "    n=int(input(\"Enter your choice = \"))\n",
    "    t=5-i\n",
    "    if n==18:\n",
    "        print(\"Congrats\")\n",
    "        break\n",
    "    elif n>18:\n",
    "        print(\"Number is greater\")\n",
    "        print(\"Number of attempts left = \",t)\n",
    "        if t==0:\n",
    "            print(\"Better luck next time\")\n",
    "            break\n",
    "        else:\n",
    "            continue\n",
    "    else:\n",
    "        print(\"Number is smaller\")\n",
    "        print(\"Number of attempts left = \",t)\n",
    "        if t==0:\n",
    "            print(\"Better luck next time\")\n",
    "            break\n",
    "        else:\n",
    "            continue\n",
    "    \n",
    "            \n"
   ]
  },
  {
   "attachments": {},
   "cell_type": "markdown",
   "metadata": {},
   "source": [
    "# **SHOPPING LIST**\n"
   ]
  },
  {
   "cell_type": "code",
   "execution_count": null,
   "metadata": {},
   "outputs": [],
   "source": [
    "st1=\" \"\n",
    "sl=[]\n",
    "while st1!=\"\":\n",
    "    st1=input(\"Enter items for shopping list = \")\n",
    "    sl.append(st1)\n",
    "print(\"The shopping list is as follows:\")\n",
    "for i in range(0,len(sl)):\n",
    "    print(sl[i])    \n"
   ]
  },
  {
   "attachments": {},
   "cell_type": "markdown",
   "metadata": {},
   "source": [
    "# **TREE PATTERN**"
   ]
  },
  {
   "cell_type": "code",
   "execution_count": null,
   "metadata": {},
   "outputs": [],
   "source": [
    "rows=input(\"Enter the number of rows = \")\n",
    "l=int(rows)\n",
    "for i in range(1,l+1):\n",
    "    print(\" \"*(l-i),end=\"\")\n",
    "    print(\"*\"*(2*i-1),end=\"\")\n",
    "    print(\" \"*(l-i))\n",
    "for j in range(1,l+1):\n",
    "    print(\" \"*(l-1),end=\"\")\n",
    "    print(\"*\",end=\"\")\n",
    "    print(\" \"*(l-1))\n"
   ]
  },
  {
   "attachments": {},
   "cell_type": "markdown",
   "metadata": {},
   "source": [
    "# **TRIANGLE PATTERN**"
   ]
  },
  {
   "cell_type": "code",
   "execution_count": null,
   "metadata": {},
   "outputs": [],
   "source": [
    "rows = int(input(\"Enter number of rows = \"))\n",
    "for i in range(1, rows+1):\n",
    "    print(' '*(rows-i) +'*'*(2*i-1))\n"
   ]
  },
  {
   "attachments": {},
   "cell_type": "markdown",
   "metadata": {},
   "source": [
    "# **LIST (SUM OF ALL ELEMENTS)**"
   ]
  },
  {
   "cell_type": "code",
   "execution_count": null,
   "metadata": {},
   "outputs": [],
   "source": [
    "ls1=list(map(int,input(\"Enter a list of elements = \").split()))\n",
    "sum=0\n",
    "for i in range(0,len(ls1),1):\n",
    "     sum+=ls1[i]\n",
    "print(\"The sum of elements = \",sum)\n",
    "     \n"
   ]
  },
  {
   "attachments": {},
   "cell_type": "markdown",
   "metadata": {},
   "source": [
    "# **TYPE OF ALPHABET**\n"
   ]
  },
  {
   "cell_type": "code",
   "execution_count": null,
   "metadata": {},
   "outputs": [],
   "source": [
    "st1=input(\"Enter a string = \")\n",
    "v=0\n",
    "c=0\n",
    "ws=0\n",
    "for x in st1:\n",
    "    if x in ('a','e','i','o','u','A','E','I','O','U'):\n",
    "        v+=1\n",
    "    elif(x==\" \"):\n",
    "        ws+=1    \n",
    "    elif x not in ('a','e','i','o','u','A','E','I','O','U'):\n",
    "        c+=1\n",
    "    \n",
    "print(\"vowels = \",v)\n",
    "print(\"consonents = \",c)\n",
    "print(\"white space = \",ws)        "
   ]
  },
  {
   "attachments": {},
   "cell_type": "markdown",
   "metadata": {},
   "source": [
    "# **POLYCARP**\n"
   ]
  },
  {
   "cell_type": "code",
   "execution_count": null,
   "metadata": {},
   "outputs": [],
   "source": [
    "ls=list(map(int,input(\"Enter the values of coin\").split()))\n",
    "max_count=0\n",
    "counted=[]\n",
    "for i in ls:\n",
    "    if i not in counted:\n",
    "        counted.append(i)\n",
    "        count=ls.count(i)\n",
    "        if count>max_count:\n",
    "            max_count=count\n",
    "print(max_count)\n",
    "        \n",
    "    \n"
   ]
  },
  {
   "cell_type": "code",
   "execution_count": null,
   "metadata": {},
   "outputs": [],
   "source": [
    "ls=list(map(int,input(\"Enter the values of coin\").split()))\n",
    "max_count=0\n",
    "counted=[]\n",
    "for i in ls:\n",
    "    if i not in counted:\n",
    "        counted.append(i)\n",
    "        max_count=ls.count(i)\n",
    "        if count>max_count:\n",
    "            max_count=count\n",
    "print(max_count)\n",
    "        \n"
   ]
  },
  {
   "attachments": {},
   "cell_type": "markdown",
   "metadata": {},
   "source": [
    "# **PALENDROME NUMBER FUNCTION**"
   ]
  },
  {
   "cell_type": "code",
   "execution_count": null,
   "metadata": {},
   "outputs": [],
   "source": [
    "def palen(num):\n",
    "   temp=num\n",
    "   rev=0\n",
    "   dig=0\n",
    "   while num>0:\n",
    "    dig=num%10\n",
    "    rev=rev*10+dig\n",
    "    num=num//10\n",
    "   if rev==temp:\n",
    "    print(f'{temp} is a Palendrome number')\n",
    "   else:\n",
    "    print(f'{temp} is not a Palendrome number')"
   ]
  },
  {
   "attachments": {},
   "cell_type": "markdown",
   "metadata": {},
   "source": [
    "# **FACTORIAL FUNCTION**"
   ]
  },
  {
   "cell_type": "code",
   "execution_count": null,
   "metadata": {},
   "outputs": [],
   "source": [
    "def factorial(num):\n",
    "    f=1\n",
    "    for i in range(num,0,-1):\n",
    "        f=f*i\n",
    "    print(f)"
   ]
  },
  {
   "attachments": {},
   "cell_type": "markdown",
   "metadata": {},
   "source": [
    "# **CODE CHEF 1**"
   ]
  },
  {
   "cell_type": "code",
   "execution_count": null,
   "metadata": {},
   "outputs": [],
   "source": [
    "while True:\n",
    "    cab1=int(input('Enter the amount = '))\n",
    "    cab2=int(input('Enter the amount = '))\n",
    "    if cab1>cab2:\n",
    "        print('Take cab2')\n",
    "    elif cab1<cab2:\n",
    "        print('Take cab1')\n",
    "    else:\n",
    "        print('Take any cab both require same fees')"
   ]
  },
  {
   "attachments": {},
   "cell_type": "markdown",
   "metadata": {},
   "source": [
    "# **CODE CHEF 2**"
   ]
  },
  {
   "cell_type": "code",
   "execution_count": null,
   "metadata": {},
   "outputs": [],
   "source": [
    "n=int(input(\"Enter an integer\"))\n",
    "m=0\n",
    "k=0\n",
    "count=0\n",
    "for i in range(1,n+1):\n",
    "    if n%i==0:\n",
    "        for j in range(1,i):\n",
    "            if i%j==0:\n",
    "                count+=1\n",
    "if count==4:\n",
    "    k=i\n",
    "    m=n/k\n",
    "else:\n",
    "     m=n\n",
    "count2=0\n",
    "for l in range(1,n+1):\n",
    "    if n%l==0:\n",
    "        count2+=1\n",
    "print(f'{n} has {count2-2} divisor')\n",
    "\n"
   ]
  },
  {
   "attachments": {},
   "cell_type": "markdown",
   "metadata": {},
   "source": [
    "# **SQUARE PATTERN**"
   ]
  },
  {
   "cell_type": "code",
   "execution_count": null,
   "metadata": {},
   "outputs": [],
   "source": [
    "import turtle\n",
    "turtle.speed(0)\n",
    "turtle.bgcolor(\"black\")\n",
    "for i in range(15):\n",
    "    for colours in (\"red\",\"magenta\",\"blue\",\"cyan\",\"green\"):\n",
    "        turtle.color(colours)\n",
    "        turtle.pensize(3)\n",
    "        turtle.left(4)\n",
    "        turtle.forward(200)\n",
    "        turtle.left(90)\n",
    "        turtle.forward(200)\n",
    "        turtle.left(90)\n",
    "        turtle.forward(200)\n",
    "        turtle.left(90)\n",
    "\n"
   ]
  },
  {
   "attachments": {},
   "cell_type": "markdown",
   "metadata": {},
   "source": [
    "# **NUMBER PATTERN**\n"
   ]
  },
  {
   "cell_type": "code",
   "execution_count": null,
   "metadata": {},
   "outputs": [],
   "source": [
    "# Error do again\n",
    "num1=input(\"Enter a number : \")\n",
    "num2=int(num1)\n",
    "for i in range(1,8):\n",
    "    if i==1 or i==7:\n",
    "        print(num1*7)\n",
    "    for j in range(1,8):\n",
    "        if i==2:\n",
    "            if i+j==3 or i+j==9:\n",
    "                print(num2,end=\"\")\n",
    "            else:\n",
    "                print(num2-1,end=\"\")\n",
    "        elif i==3:\n",
    "            if i+j==4 or i+j==10:\n",
    "                print(num2,end=\"\")\n",
    "            elif i+j==5 or i+j==9:\n",
    "                print(num2-1,end=\"\")\n",
    "            else:\n",
    "                print(num2-2,end=\"\")\n",
    "        elif i==4:\n",
    "            if i+j==5 or i+j==11:\n",
    "                print(num2,end=\"\")\n",
    "            elif i+j==6 or i+j==10:\n",
    "                print(num2-1,end=\"\") \n",
    "            elif i+j==7 or i+j==9:\n",
    "                print(num2-2,end=\"\")\n",
    "            else:\n",
    "                print(num2-3,end=\"\")\n",
    "        elif i==5:\n",
    "            if i+j==6 or i+j==12:\n",
    "                print(num2,end=\"\")\n",
    "            elif i+j==7 or i+j==11:\n",
    "                print(num2-1,end=\"\")\n",
    "            else:\n",
    "                print(num2-2,end=\"\")\n",
    "        elif i==6:\n",
    "            if i+j==7 or i+j==13:\n",
    "                print(num2,end=\"\")\n",
    "            else:\n",
    "                print(num2-1,end=\"\")       \n",
    "    print()"
   ]
  },
  {
   "attachments": {},
   "cell_type": "markdown",
   "metadata": {},
   "source": [
    "# **PRINT IN GIVEN ORDER**\n"
   ]
  },
  {
   "cell_type": "code",
   "execution_count": null,
   "metadata": {},
   "outputs": [],
   "source": [
    "ls=list(map(int,input()).split())\n",
    "l=len(ls)\n",
    "for i in range(0,l):\n",
    "    for j in range(0,l):\n",
    "        if i==0:"
   ]
  },
  {
   "cell_type": "code",
   "execution_count": null,
   "metadata": {},
   "outputs": [],
   "source": [
    "\n",
    "a=int(input())\n",
    "b=int(input())\n",
    "c=int(input())\n",
    "n=int(input())\n",
    "lst=[]\n",
    "for i in range(0,a+1):\n",
    "    for j in range(0,b+1):\n",
    "        for k in range(0,c+1):\n",
    "            if i+j+k != n:\n",
    "                lst=[i,j,k]\n",
    "                print(lst,end=\"\")"
   ]
  },
  {
   "cell_type": "code",
   "execution_count": null,
   "metadata": {},
   "outputs": [],
   "source": [
    "if __name__ == '__main__':\n",
    "    n = int(input())\n",
    "    arr = map(int, input().split())\n",
    "    print(arr)"
   ]
  },
  {
   "cell_type": "code",
   "execution_count": null,
   "metadata": {},
   "outputs": [],
   "source": [
    "# 1 enter to list by the user and retrieve common elements of the above two list in another.\n",
    "# 2 uncommon elements in another.\n",
    "lst1=list(map(int,input().split()))\n",
    "lst2=list(map(int,input().split()))\n",
    "lst3=[]\n",
    "if lst1>lst2:\n",
    "    lst4=lst1\n",
    "else:\n",
    "    lst4=lst2\n",
    "for i in lst1:\n",
    "    if i in lst2:\n",
    "        lst3.append(i)\n",
    "for j in lst3:    \n",
    "    lst4.remove(j)\n",
    "print(lst3)\n",
    "print(lst4)"
   ]
  },
  {
   "cell_type": "code",
   "execution_count": null,
   "metadata": {},
   "outputs": [],
   "source": [
    "# 3 enter a list from the user and retrieve even elements.\n",
    "lst1=list(map(int,input().split()))\n",
    "lst2=[]\n",
    "for i in lst1:\n",
    "    if i%2==0:\n",
    "        lst2.append(i)\n",
    "print(lst2)"
   ]
  },
  {
   "cell_type": "code",
   "execution_count": null,
   "metadata": {},
   "outputs": [],
   "source": [
    "# 4 enter a list a list from the user and square each elements of the list.\n",
    "lst1=list(map(int,input().split()))\n",
    "lst2=[]\n",
    "for i in lst1:\n",
    "    lst2.append(i**2)\n",
    "print(lst2)"
   ]
  },
  {
   "cell_type": "code",
   "execution_count": null,
   "metadata": {},
   "outputs": [],
   "source": [
    "# fuction for size of matrix\n",
    "def size(r,c):\n",
    "    return len(r),len(c)\n",
    "# functipn to create a matrix\n",
    "def create_matrix(r,c,ele):\n",
    "    return eval(str([[ele]*c]*r))\n"
   ]
  },
  {
   "cell_type": "code",
   "execution_count": null,
   "metadata": {},
   "outputs": [],
   "source": [
    "n=10\n",
    "ls=[]\n",
    "for i in range(10):\n",
    "    x=input()\n",
    "    ls.append(x)\n",
    "print(ls)\n"
   ]
  },
  {
   "attachments": {},
   "cell_type": "markdown",
   "metadata": {},
   "source": [
    "# **HACKERRANK** "
   ]
  },
  {
   "cell_type": "code",
   "execution_count": null,
   "metadata": {},
   "outputs": [],
   "source": [
    "# Declaring Variables\n",
    "student = []\n",
    "students= []\n",
    "new = []\n",
    "n=[]\n",
    "# Creating a list of student records\n",
    "for i in range(int(input())):\n",
    "    Name=input()\n",
    "    student.append(Name)\n",
    "    Marks=float(eval(input()))\n",
    "    student.append(Marks)\n",
    "    students.append(student)\n",
    "    student=[]\n",
    "# Find the second lowest grade\n",
    "grades = [student[1] for student in students]\n",
    "grades.sort()\n",
    "second_lowest_grade = grades[1]\n",
    "\n",
    "# Find the name(s) of any student(s) with the second lowest grade\n",
    "second_lowest_students = [student[0] for student in students if student[1] == second_lowest_grade]\n",
    "\n",
    "# Sort the names in alphabetical order\n",
    "second_lowest_students.sort()\n",
    "\n",
    "# Print the name(s) of the student(s)\n",
    "for student in second_lowest_students:\n",
    "    print(student)\n"
   ]
  },
  {
   "cell_type": "code",
   "execution_count": null,
   "metadata": {},
   "outputs": [],
   "source": [
    "# file handling : reading and writing operations with local code.\n",
    "# program to display a number table:\n",
    "for i in range(1,11):\n",
    "    for j in range(1,11):\n",
    "        print(i*j,end=\" \")\n",
    "    print()"
   ]
  },
  {
   "cell_type": "code",
   "execution_count": null,
   "metadata": {},
   "outputs": [],
   "source": [
    "f = open(r'C:\\Users\\shyam\\OneDrive\\Desktop\\test\\sample.txt','r')\n",
    "# f.write()\n",
    "f.read()\n",
    "print(f)\n",
    "f.close()\n"
   ]
  },
  {
   "cell_type": "code",
   "execution_count": null,
   "metadata": {},
   "outputs": [],
   "source": [
    "# FILE HANDLING - It is a mechanism by which we can read data of disk files in pythin program or write back data from python program to disk files.\n",
    "# So far in our python program the standard input in coming from keyboard an output is going to monitor i.e., no where data is stored permanent and entered data is present as long as the program is running BUT file handling allows us to store data entered through python program permanently in disk file and later on...."
   ]
  },
  {
   "cell_type": "code",
   "execution_count": null,
   "metadata": {},
   "outputs": [],
   "source": [
    "# DATA FILES\n",
    "# > It contains data to be pretaining to a specific application,for later use.the data files can be stored in two ways-\n",
    "#   - Text file \n",
    "#   - Binary file "
   ]
  },
  {
   "cell_type": "code",
   "execution_count": null,
   "metadata": {},
   "outputs": [],
   "source": [
    "# Text file stores information in ASCII or UNICODE character.In text file everything will be stored as a character."
   ]
  },
  {
   "cell_type": "code",
   "execution_count": null,
   "metadata": {},
   "outputs": [],
   "source": [
    "# OPENING FILE\n",
    "# PERFORMING READ/WRITE\n",
    "# CLOSING FILE"
   ]
  },
  {
   "cell_type": "code",
   "execution_count": null,
   "metadata": {},
   "outputs": [],
   "source": [
    "# Funnctins with file object\n",
    "'''\n",
    "  file_object=open(filename,mode)\n",
    "  mode: default mode is read ('r')\n",
    "\n",
    "  functions for writing file # w/r/w+/r+/a+\n",
    "  1. write()\n",
    "  2. writelines()\n",
    "\n",
    "  functions for readind file #r(default)/r+/w+/a+\n",
    "  1. read()\n",
    "  2. readline()\n",
    "  3. readlines()\n",
    "\n",
    "'''"
   ]
  },
  {
   "cell_type": "code",
   "execution_count": null,
   "metadata": {},
   "outputs": [],
   "source": [
    "# write(): to write a string into a file\n",
    "# note: write function does not have any new line char at the time of operation\n",
    "\n",
    "f=open('sample.txt','w')\n",
    "f.write('Hello World\\n')\n",
    "f.write('Python Programming')\n",
    "#print('Hello World')\n",
    "#print('Python Programming')\n",
    "\n",
    "f.close()"
   ]
  },
  {
   "cell_type": "code",
   "execution_count": null,
   "metadata": {},
   "outputs": [],
   "source": [
    "# writelines: to the list of string(lines))\n",
    "f=open('sample.txt','w')\n",
    "ls=['hello world\\n','python programming']\n",
    "f.writelines(ls)\n",
    "f.close()"
   ]
  },
  {
   "cell_type": "code",
   "execution_count": null,
   "metadata": {},
   "outputs": [],
   "source": [
    "# read(): return the entire text of the file in form of string\n",
    "f=open('sample.txt') # default mode is 'r'\n",
    "data=f.read(10)\n",
    "data2=f.read(4)\n",
    "print(data)\n",
    "print(data2)\n",
    "f.close()"
   ]
  },
  {
   "cell_type": "code",
   "execution_count": null,
   "metadata": {},
   "outputs": [],
   "source": [
    "# readline(): read the current line only\n",
    "f=open('sample.txt')\n",
    "data=f.readline()\n",
    "data2=f.readline()\n",
    "print(data)\n",
    "print(data2)\n",
    "f.close()"
   ]
  },
  {
   "cell_type": "code",
   "execution_count": null,
   "metadata": {},
   "outputs": [],
   "source": [
    "# readlines(): read the entire text in form of list of lines\n",
    "\n",
    "f=open('sample.txt')\n",
    "data=f.readlines()\n",
    "print(data)\n",
    "f.close()"
   ]
  },
  {
   "cell_type": "code",
   "execution_count": null,
   "metadata": {},
   "outputs": [],
   "source": [
    "# Generate a random string of len=5.String must be a combination of upper and lowercase and digit\n",
    "\n",
    "import random\n",
    "import string\n",
    "out=''.join(random.choices(string.ascii_lowercase+string.ascii_uppercase+string.digits,k=5))\n",
    "print(out)"
   ]
  },
  {
   "cell_type": "code",
   "execution_count": null,
   "metadata": {},
   "outputs": [],
   "source": [
    "# We have to take random character from a given string?\n",
    "import random\n",
    "out=random.choice(input())\n",
    "print(out)\n",
    "\n"
   ]
  },
  {
   "cell_type": "code",
   "execution_count": null,
   "metadata": {},
   "outputs": [],
   "source": [
    "# Generate a random password which needs the following password len must be 10 character long .It must contain one digit and one special character.\n",
    "import random\n",
    "import string\n",
    "password=\"\".join(random.choices(string.digits+string.printable+string.ascii_letters,k=10))\n",
    "if password.isalnum:\n",
    "    print(password)"
   ]
  },
  {
   "cell_type": "code",
   "execution_count": null,
   "metadata": {},
   "outputs": [],
   "source": [
    "# Generate 3 random integer between 100 to 999 which is divisible by 5.\n",
    "import string\n",
    "out=random.randrange(100,999)\n",
    "outt=random.randrange(100,999)\n",
    "outtt=random.randrange(100,999)\n",
    "if out%5==0 and outt%5==0 and outtt%5==0:\n",
    "    print(out,outt,outtt)"
   ]
  },
  {
   "cell_type": "code",
   "execution_count": null,
   "metadata": {},
   "outputs": [],
   "source": [
    "# Q.>Remove all the lines that contain the character 'a' in a file and write it to another file.\n",
    "\n",
    "\n",
    "# Open the input and output files\n",
    "with open('sample.txt', 'r') as f_in, open('output.txt', 'w') as f_out:\n",
    "    # Iterate over the lines in the input file\n",
    "    for line in f_in:\n",
    "        # Check if the line does not contain the character 'a'\n",
    "        if 'a' not in line:\n",
    "            # If the line does not contain 'a', write it to the output file\n",
    "            f_out.write(line)\n"
   ]
  },
  {
   "cell_type": "code",
   "execution_count": null,
   "metadata": {},
   "outputs": [],
   "source": [
    "#  Create a binary file with name and roll number. Search for a given roll number and display the name, if not found display appropriate message.\n",
    "\n",
    "# Student data\n",
    "data = [\n",
    "    ('Alice', 1),\n",
    "    ('Bob', 2),\n",
    "    ('Charlie', 3),\n",
    "    ('Dave', 4),\n",
    "    ('Eve', 5),\n",
    "]\n",
    "\n",
    "# Create the binary file\n",
    "with open('students.bin', 'wb') as f:\n",
    "    # Iterate over the students\n",
    "    for student in data:\n",
    "        # Write the student name as a fixed-length string (10 characters)\n",
    "        f.write(student[0].ljust(10).encode())\n",
    "        # Write the roll number as an integer (4 bytes)\n",
    "        f.write(student[1].to_bytes(4, 'little'))\n",
    "\n",
    "# Search for a student by roll number\n",
    "def search_student(roll_number):\n",
    "    # Open the binary file in read mode\n",
    "    with open('students.bin', 'rb') as f:\n",
    "        # Read the file one record at a time\n",
    "        while True:\n",
    "            # Read the student name\n",
    "            name = f.read(10).decode().strip()\n",
    "            # If the name is empty, we have reached the end of the file\n",
    "            if not name:\n",
    "                break\n",
    "            # Read the roll number\n",
    "            roll = int.from_bytes(f.read(4), 'little')\n",
    "            # Check if this is the student we are looking for\n",
    "            if roll == roll_number:\n",
    "                # Return the student name\n",
    "                return name\n",
    "    # If the student was not found, return None\n",
    "    return None\n",
    "\n",
    "# Test the search function\n",
    "roll_number = 4\n",
    "name = search_student(roll_number)\n",
    "if name:\n",
    "    print(f'Student with roll number {roll_number}: {name}')\n",
    "else:\n",
    "    print(f'No student found with roll number {roll_number}')\n"
   ]
  },
  {
   "cell_type": "code",
   "execution_count": null,
   "metadata": {},
   "outputs": [],
   "source": [
    "# Create a binary file with roll number, name and marks. Input a roll number and update the marks \n",
    "# Open the file in binary write mode\n",
    "with open('student_records.bin', 'wb') as f:\n",
    "  # Encode the name as bytes and pack the data into a binary format\n",
    "  data = (1).to_bytes(4, 'big') + b'John Smith' + (87.5).to_bytes(4, 'big')\n",
    "  # Write the packed data to the file\n",
    "  f.write(data)\n",
    "\n",
    "# Open the file in binary read mode\n",
    "with open('student_records.bin', 'rb') as f:\n",
    "  # Read the packed data from the file\n",
    "  packed_data = f.read()\n",
    "  # Unpack the packed data\n",
    "  roll_number = int.from_bytes(packed_data[:4], 'big')\n",
    "  name = packed_data[4:24]\n",
    "  marks = float.from_bytes(packed_data[24:], 'big')\n",
    "\n",
    "# Print the data\n",
    "print(f'Roll Number: {roll_number}')\n",
    "print(f'Name: {name.decode()}')\n",
    "print(f'Marks: {marks}')\n",
    "# Open the file in binary read mode\n",
    "with open('student_records.bin', 'rb') as f:\n",
    "  # Read the packed data from the file\n",
    "  packed_data = f.read()\n",
    "\n",
    "# Update the marks using a bytearray\n",
    "packed_data = bytearray(packed_data)\n",
    "packed_data[24:] = (90.0).to_bytes(4, 'big')\n",
    "\n",
    "# Open the file in binary write mode\n",
    "with open('student_records.bin', 'wb') as f:\n",
    "  # Write the packed data to the file\n",
    "  f.write(packed_data)\n",
    "\n",
    "# Open the file in binary read mode\n",
    "with open('student_records.bin', 'rb') as f:\n",
    "  # Read the packed data from the file\n",
    "  packed_data = f.read()\n",
    "  # Unpack the packed data\n",
    "  roll_number = int.from_bytes(packed_data[:4], 'big')\n",
    "  name = packed_data[4:24]\n",
    "  marks = float.from_bytes(packed_data[24:], 'big')\n",
    "\n",
    "# Print the data\n",
    "print(f'Roll Number: {roll_number}')\n",
    "print(f'Name: {name.decode()}')\n",
    "print(f'Marks: {marks}')\n"
   ]
  },
  {
   "cell_type": "code",
   "execution_count": null,
   "metadata": {},
   "outputs": [],
   "source": [
    "#  Write a random number generator that generates random numbers between 1 and 6 (simulates a dice)\n",
    "import random\n",
    "\n",
    "def roll_dice(num_dice):\n",
    "  dice = []\n",
    "  for i in range(num_dice):\n",
    "    dice.append(random.randint(1, 6))\n",
    "  return dice\n",
    "\n",
    "print(roll_dice(2))  # prints a list of two random numbers between 1 and 6\n"
   ]
  },
  {
   "cell_type": "code",
   "execution_count": null,
   "metadata": {},
   "outputs": [],
   "source": [
    "# Create a CSV file by entering user-id and password, read and search the password for given user id. (using file handling only)\n",
    "import csv\n",
    "\n",
    "# Create a list of user IDs and passwords\n",
    "users = [[\"user1\", \"password1\"],\n",
    "         [\"user2\", \"password2\"],\n",
    "         [\"user3\", \"password3\"]]\n",
    "\n",
    "# Write the list to a CSV file\n",
    "with open(\"users.csv\", \"w\", newline=\"\") as file:\n",
    "  writer = csv.writer(file)\n",
    "  writer.writerows(users)\n",
    "\n",
    "# Search for the password for a given user ID\n",
    "def search_password(user_id):\n",
    "  with open(\"users.csv\", \"r\") as file:\n",
    "    reader = csv.reader(file)\n",
    "    for row in reader:\n",
    "      if row[0] == user_id:\n",
    "        return row[1]\n",
    "\n",
    "# Test the search function\n",
    "print(search_password(\"user1\"))  # prints \"password1\"\n",
    "print(search_password(\"user2\"))  # prints \"password2\"\n",
    "print(search_password(\"user3\"))  # prints \"password3\"\n",
    "print(search_password(\"user4\"))  # prints None\n"
   ]
  },
  {
   "cell_type": "code",
   "execution_count": null,
   "metadata": {},
   "outputs": [],
   "source": [
    "# Write a Python function transpose(m) that takes as input a two dimensional matrix m and returns the transpose of m. The argument m should remain undisturbed by the function\n",
    "def transpose(m):\n",
    "  # Initialize the result as a list of lists\n",
    "  result = [[0 for _ in range(len(m))] for _ in range(len(m[0]))]\n",
    "  \n",
    "  # Iterate over the rows and columns of the original matrix\n",
    "  for i in range(len(m)):\n",
    "    for j in range(len(m[0])):\n",
    "      # Transpose the elements by swapping the indices\n",
    "      result[j][i] = m[i][j]\n",
    "      \n",
    "  return result\n",
    "matrix = [[1, 2, 3], [4, 5, 6]]\n",
    "transposed_matrix = transpose(matrix)\n",
    "print(transposed_matrix)  # prints [[1, 4], [2, 5], [3, 6]]\n"
   ]
  },
  {
   "cell_type": "code",
   "execution_count": null,
   "metadata": {},
   "outputs": [],
   "source": [
    "# Write a function to flatten a nested dictionary. Namespace the keys with a period.\n",
    "def flatten_dict(d, parent_key='', sep='.'):\n",
    "    items = []\n",
    "    for k, v in d.items():\n",
    "        new_key = parent_key + sep + k if parent_key else k\n",
    "        if isinstance(v, dict):\n",
    "            items.extend(flatten_dict(v, new_key, sep=sep).items())\n",
    "        else:\n",
    "            items.append((new_key, v))\n",
    "    return dict(items)\n",
    "d = {\n",
    "    'a': 1,\n",
    "    'b': {\n",
    "        'c': 2,\n",
    "        'd': 3\n",
    "    },\n",
    "    'e': {\n",
    "        'f': {\n",
    "            'g': 4\n",
    "        }\n",
    "    }\n",
    "}\n",
    "flattened_dict = flatten_dict(d)\n",
    "print(flattened_dict)\n"
   ]
  },
  {
   "cell_type": "code",
   "execution_count": null,
   "metadata": {},
   "outputs": [],
   "source": [
    "#There are N bottles. ith bottle has A[i] radius. Once a bottle is enclosed inside another\n",
    "#bottle, it ceases to be visible. Minimize the number of visible bottles.\n",
    "#You can put ith bottle into jth bottle if following condition is fulfilled:\n",
    "#1) ith bottle itself is not enclosed in another bottle.\n",
    "#2) jth bottle does not enclose any other bottle.\n",
    "#3) Radius of bottle i is smaller than bottle j (i.e. A[i] < A[j]).\n",
    "def minimize_visible_bottles(bottles):\n",
    "    # Sort the bottles in decreasing order of radius\n",
    "    bottles.sort(key=lambda x: -x[1])\n",
    "    result = []\n",
    "    for i in range(len(bottles)):\n",
    "        # Check if the current bottle is enclosed in any of the previously added bottles\n",
    "        is_enclosed = False\n",
    "        for j in range(len(result)):\n",
    "            if bottles[i][1] < result[j][1]:\n",
    "                is_enclosed = True\n",
    "                break\n",
    "        if not is_enclosed:\n",
    "            result.append(bottles[i])\n",
    "    return result\n"
   ]
  },
  {
   "cell_type": "code",
   "execution_count": null,
   "metadata": {},
   "outputs": [],
   "source": [
    "# read a contain from one file and save to another file\n",
    "f=open('sample.txt') \n",
    "data=f.read()\n",
    "f.close()\n",
    "f=open('text.txt','w')\n",
    "f.write(data)\n",
    "f.close()\n"
   ]
  },
  {
   "cell_type": "code",
   "execution_count": null,
   "metadata": {},
   "outputs": [],
   "source": [
    "#count no of vowels in a text file\n",
    "f=open('sample.txt') \n",
    "data=f.read()\n",
    "f.close()\n",
    "count=0\n",
    "for i in data:\n",
    "    if i in 'AEIOUaeiou':\n",
    "        count+=1\n",
    "print(f'No of vowels:{count}')"
   ]
  },
  {
   "cell_type": "code",
   "execution_count": null,
   "metadata": {},
   "outputs": [],
   "source": [
    "# to count no of words in a text file\n",
    "f=open('sample.txt') \n",
    "data=(f.read())\n",
    "count=1\n",
    "for i in data:\n",
    "    if i ==\" \" or i == \"\\n\":\n",
    "         count+=1\n",
    "print(f'No of words:{count}')\n"
   ]
  },
  {
   "cell_type": "code",
   "execution_count": null,
   "metadata": {},
   "outputs": [],
   "source": [
    "# to count no of lines in a text file \n",
    "f=open('sample.txt') \n",
    "data=f.readlines()\n",
    "lines=len(data)\n",
    "print(f'No of lines: {lines}')"
   ]
  },
  {
   "cell_type": "code",
   "execution_count": null,
   "metadata": {},
   "outputs": [],
   "source": [
    "# to copy even words of one file to another\n",
    "f=open('sample.txt') \n",
    "data=f.read()\n",
    "f.close()\n",
    "for i in range(len(data)):\n",
    "    if i%2==0:\n",
    "        print(data[i],end=\" \")\n",
    "    \n"
   ]
  },
  {
   "cell_type": "code",
   "execution_count": null,
   "metadata": {},
   "outputs": [],
   "source": [
    "\n",
    "\n",
    "# syntax to create the file object\n",
    "# open(file_name,mode='r')\n",
    "f= open('sample.txt','r')\n",
    "data = f.read()\n",
    "number_of_char=len(data)\n",
    "print(f'Number of char in a file sample.txt:{number_of_char}')\n",
    "f.close()"
   ]
  },
  {
   "cell_type": "code",
   "execution_count": null,
   "metadata": {},
   "outputs": [],
   "source": [
    "# longest word\n",
    "f= open('sample.txt','r')\n",
    "data = f.read()\n",
    "ls_word=data.split()\n",
    "bw = ls_word[0]\n",
    "#ls_word.sort(key=len)\n",
    "longest_word = max(ls_word,key=len)\n",
    "#for i in range(len(ls_word)):\n",
    "#   if len(ls_word[i])>len(bw):\n",
    "#       bw=ls_word[i]\n",
    "print(longest_word)\n",
    "f.close()\n"
   ]
  },
  {
   "cell_type": "code",
   "execution_count": null,
   "metadata": {},
   "outputs": [],
   "source": [
    "\n",
    "f= open('sample.txt','r')\n",
    "data = f.read()\n",
    "print(data)\n",
    "f.close()\n",
    "\n",
    "\n",
    "with open('sample.txt') as f:\n",
    "    data=f.read()\n",
    "    print(data)\n",
    "    f.close()\n",
    "    print(f.closed)\n",
    "    \n"
   ]
  },
  {
   "cell_type": "code",
   "execution_count": null,
   "metadata": {},
   "outputs": [],
   "source": [
    "# seek(): set the cursor location within the file\n",
    "# tell(): return the current cursor location in file\n",
    "\n",
    "f= open('sample.txt','r')\n",
    "f.read(4)\n",
    "loc= f.tell()\n",
    "''' '''\n",
    "print('Current cursor location',loc)\n",
    "f.close()"
   ]
  },
  {
   "attachments": {},
   "cell_type": "markdown",
   "metadata": {},
   "source": [
    "# **APPEND MODE IN FILE HANDLING**\n"
   ]
  },
  {
   "cell_type": "code",
   "execution_count": null,
   "metadata": {},
   "outputs": [],
   "source": [
    "f = open('sample.txt','a+')\n",
    "f.seek(0)\n",
    "data=f.read()\n",
    "count=0\n",
    "words=0\n",
    "for i in data:\n",
    "    if i.isalpha():\n",
    "        count+=1\n",
    "    if i == \" \" or i == '\\n':\n",
    "        words+=1\n",
    "print(f'Number of words : {words}')\n",
    "print(f'Number of alphabets : {count}')\n",
    "f.close()"
   ]
  },
  {
   "attachments": {},
   "cell_type": "markdown",
   "metadata": {},
   "source": [
    "# **EXCEPTION HANDLING**"
   ]
  },
  {
   "cell_type": "code",
   "execution_count": null,
   "metadata": {},
   "outputs": [],
   "source": [
    "# Basic example:\n",
    "a = 23\n",
    "b = 0\n",
    "# operation\n",
    "try:\n",
    "    out=a/b\n",
    "    print(out)\n",
    "except:\n",
    "    print('Invalid operations')"
   ]
  },
  {
   "cell_type": "code",
   "execution_count": null,
   "metadata": {},
   "outputs": [],
   "source": [
    "while 1: \n",
    "    try:\n",
    "        num=int(input())\n",
    "        print(f'Use input integer : {num}')\n",
    "        break\n",
    "    except:\n",
    "        print('Invalid user input')\n",
    "        print('Try again')"
   ]
  },
  {
   "cell_type": "code",
   "execution_count": null,
   "metadata": {},
   "outputs": [],
   "source": [
    "# 1.try,except\n",
    "'''\n",
    "try:\n",
    "\n",
    "except:\n",
    "\n",
    "example:\n",
    "   try:\n",
    "        num=int(input())\n",
    "        print(f'Use input integer : {num}')\n",
    "        break\n",
    "    except:\n",
    "        print('Invalid user input')\n",
    "        print('Try again') \n",
    "'''            \n",
    "# 2.try,except,else\n",
    "'''\n",
    "try:\n",
    "\n",
    "except:\n",
    "\n",
    "else:    \n",
    "\n",
    "'''\n",
    "# 3.try-except-else-finally or try-except-finally\n",
    "'''\n",
    "try:\n",
    "except:\n",
    "else:\n",
    "finally:\n",
    "\n",
    "'''"
   ]
  },
  {
   "cell_type": "code",
   "execution_count": null,
   "metadata": {},
   "outputs": [],
   "source": [
    "print('start')\n",
    "e='What is problem'\n",
    "try:\n",
    "    out = 44 + 45\n",
    "    b = 0\n",
    "    print(out/b)\n",
    "except(TypeError,ZeroDivisionError) as e:\n",
    "    print('Error',e)\n",
    "else:\n",
    "    print('What is problem')\n",
    "finally:\n",
    "    print('Stop')"
   ]
  },
  {
   "cell_type": "code",
   "execution_count": null,
   "metadata": {},
   "outputs": [],
   "source": [
    "# name error\n",
    "# index error\n",
    "# key error\n",
    "# value error\n",
    "# type error"
   ]
  },
  {
   "attachments": {},
   "cell_type": "markdown",
   "metadata": {},
   "source": [
    "# **NUMPY**"
   ]
  },
  {
   "cell_type": "code",
   "execution_count": null,
   "metadata": {},
   "outputs": [],
   "source": [
    "import numpy as np\n"
   ]
  },
  {
   "cell_type": "code",
   "execution_count": null,
   "metadata": {},
   "outputs": [],
   "source": [
    "n=int(input())\n",
    "m=int(input())\n",
    "arr1=np.zeros(n*m).reshape((n,m))\n",
    "for i in range(n):\n",
    "    for j in range(m):\n",
    "        if j==i:\n",
    "            arr1[i,j]=1\n",
    "print(arr1)\n",
    "        \n"
   ]
  },
  {
   "cell_type": "code",
   "execution_count": null,
   "metadata": {},
   "outputs": [],
   "source": [
    "lst=[1, 2, 3, 4, 5, 6, 7, 8, 9]\n",
    "arr2=np.array(lst).reshape((3,3))\n",
    "arr1=np.ones(9).reshape((3,3))\n",
    "print(arr2[1:3,1:3])\n",
    "\n"
   ]
  },
  {
   "cell_type": "code",
   "execution_count": null,
   "metadata": {},
   "outputs": [],
   "source": [
    "arr = list(map(float,input().split()))\n",
    "arr1 = np.array(arr,float)\n",
    "sorted_arr = sorted(arr1, reverse=True)\n",
    "print(sorted_arr)\n",
    "\n"
   ]
  },
  {
   "cell_type": "code",
   "execution_count": null,
   "metadata": {},
   "outputs": [],
   "source": [
    "arr = list(map(float,input().split()))\n",
    "arr1 = np.array(arr)\n",
    "new_shape=arr1.reshape((3,3))\n",
    "print(new_shape)\n"
   ]
  },
  {
   "cell_type": "code",
   "execution_count": null,
   "metadata": {},
   "outputs": [],
   "source": [
    "try:\n",
    "    try:\n",
    "        raise TypeError\n",
    "    except ValueError:\n",
    "        print(\"inner Exception handled \")\n",
    "        print(\"next command\")\n",
    "except TypeError:\n",
    "    print(\"outer Exception handled\")\n",
    "else:\n",
    "    print(\"no Exceptions\")"
   ]
  },
  {
   "cell_type": "code",
   "execution_count": null,
   "metadata": {},
   "outputs": [],
   "source": [
    "def print_diagonal_matrix(N, M):\n",
    "    for i in range(N):\n",
    "        for j in range(M):\n",
    "            if i == j:\n",
    "                print(\"1\", end=\" \")\n",
    "            else:\n",
    "                print(\"0\", end=\" \")\n",
    "        print()\n",
    "\n",
    "print_diagonal_matrix(3, 4)"
   ]
  },
  {
   "cell_type": "code",
   "execution_count": null,
   "metadata": {},
   "outputs": [],
   "source": [
    "f=open('axa.txt','r')\n",
    "for line in f:\n",
    "        if line.startswith(\"A\"):\n",
    "            print(line)"
   ]
  },
  {
   "cell_type": "code",
   "execution_count": null,
   "metadata": {},
   "outputs": [],
   "source": [
    "out=print('Hello') or print('Python')\n",
    "print(out,type(out))"
   ]
  },
  {
   "cell_type": "code",
   "execution_count": null,
   "metadata": {},
   "outputs": [],
   "source": [
    "l=[1,2,3,4,5,6]\n",
    "le=len(l)\n",
    "st=''\n",
    "for i in l:\n",
    "    st+=str(i)\n",
    "\n",
    "print(st)"
   ]
  },
  {
   "cell_type": "code",
   "execution_count": null,
   "metadata": {},
   "outputs": [],
   "source": [
    "# python code to demonstrate short circuiting \n",
    "# using and and or\n",
    "   \n",
    "# helper function\n",
    "def check():\n",
    "    return \"geeks\"\n",
    "   \n",
    "# using an expression to demonstrate\n",
    "# prints \"geeks\", and gets executed \n",
    "# as both are required to check truth value\n",
    "print (1 and check())\n",
    "   \n",
    "       \n",
    "# using an expression to demonstrate\n",
    "# prints 1\n",
    "# as only if 1st value is true, or \n",
    "# doesnt require call check() fun\n",
    "print (1 or check())\n",
    "   \n",
    "# using an expression to demonstrate\n",
    "# prints \"geeks\"\n",
    "# the value returns true when check \n",
    "# is encountered. 1 is not executed\n",
    "print (0 or check() or 1)\n",
    "   \n",
    "# using an expression to demonstrate\n",
    "# prints 1\n",
    "# as last value is required to evaluate\n",
    "# full expression because of \"and\"\n",
    "print (0 or check() and 1)"
   ]
  },
  {
   "cell_type": "code",
   "execution_count": null,
   "metadata": {},
   "outputs": [],
   "source": [
    "ls=[i for i in range(0,3) if i!=1]\n",
    "ls"
   ]
  },
  {
   "cell_type": "code",
   "execution_count": null,
   "metadata": {},
   "outputs": [],
   "source": [
    "str=\"mrshyamrai\"\n",
    "dic={str[i]:str.count(str[i]) for i in range(0,len(str)) if i!=2}\n",
    "print(dic)"
   ]
  },
  {
   "cell_type": "code",
   "execution_count": 3,
   "metadata": {},
   "outputs": [
    {
     "name": "stdout",
     "output_type": "stream",
     "text": [
      "529344067295497451\n"
     ]
    }
   ],
   "source": [
    "n=int(input())\n",
    "t=tuple(map(int,input().split()))\n",
    "print(hash(t))\n"
   ]
  }
 ],
 "metadata": {
  "kernelspec": {
   "display_name": "Python 3",
   "language": "python",
   "name": "python3"
  },
  "language_info": {
   "codemirror_mode": {
    "name": "ipython",
    "version": 3
   },
   "file_extension": ".py",
   "mimetype": "text/x-python",
   "name": "python",
   "nbconvert_exporter": "python",
   "pygments_lexer": "ipython3",
   "version": "3.11.1 (tags/v3.11.1:a7a450f, Dec  6 2022, 19:58:39) [MSC v.1934 64 bit (AMD64)]"
  },
  "orig_nbformat": 4,
  "vscode": {
   "interpreter": {
    "hash": "2706c2a2b0ef63659978c3e1eb7d58fc0b658e99d88918826a8eb8acbc5c6fa5"
   }
  }
 },
 "nbformat": 4,
 "nbformat_minor": 2
}
